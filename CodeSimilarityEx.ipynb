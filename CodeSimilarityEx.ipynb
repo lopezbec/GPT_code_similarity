{
  "nbformat": 4,
  "nbformat_minor": 0,
  "metadata": {
    "colab": {
      "provenance": []
    },
    "kernelspec": {
      "name": "python3",
      "display_name": "Python 3"
    },
    "language_info": {
      "name": "python"
    }
  },
  "cells": [
    {
      "cell_type": "code",
      "execution_count": 2,
      "metadata": {
        "colab": {
          "base_uri": "https://localhost:8080/"
        },
        "id": "M8j_-lzAE3dz",
        "outputId": "4c0eefe6-8153-44f2-dd00-d903004ecc65"
      },
      "outputs": [
        {
          "output_type": "stream",
          "name": "stdout",
          "text": [
            "Collecting openai\n",
            "  Downloading openai-1.30.1-py3-none-any.whl (320 kB)\n",
            "\u001b[2K     \u001b[90m━━━━━━━━━━━━━━━━━━━━━━━━━━━━━━━━━━━━━━━━\u001b[0m \u001b[32m320.6/320.6 kB\u001b[0m \u001b[31m4.6 MB/s\u001b[0m eta \u001b[36m0:00:00\u001b[0m\n",
            "\u001b[?25hRequirement already satisfied: anyio<5,>=3.5.0 in /usr/local/lib/python3.10/dist-packages (from openai) (3.7.1)\n",
            "Requirement already satisfied: distro<2,>=1.7.0 in /usr/lib/python3/dist-packages (from openai) (1.7.0)\n",
            "Collecting httpx<1,>=0.23.0 (from openai)\n",
            "  Downloading httpx-0.27.0-py3-none-any.whl (75 kB)\n",
            "\u001b[2K     \u001b[90m━━━━━━━━━━━━━━━━━━━━━━━━━━━━━━━━━━━━━━━━\u001b[0m \u001b[32m75.6/75.6 kB\u001b[0m \u001b[31m4.9 MB/s\u001b[0m eta \u001b[36m0:00:00\u001b[0m\n",
            "\u001b[?25hRequirement already satisfied: pydantic<3,>=1.9.0 in /usr/local/lib/python3.10/dist-packages (from openai) (2.7.1)\n",
            "Requirement already satisfied: sniffio in /usr/local/lib/python3.10/dist-packages (from openai) (1.3.1)\n",
            "Requirement already satisfied: tqdm>4 in /usr/local/lib/python3.10/dist-packages (from openai) (4.66.4)\n",
            "Requirement already satisfied: typing-extensions<5,>=4.7 in /usr/local/lib/python3.10/dist-packages (from openai) (4.11.0)\n",
            "Requirement already satisfied: idna>=2.8 in /usr/local/lib/python3.10/dist-packages (from anyio<5,>=3.5.0->openai) (3.7)\n",
            "Requirement already satisfied: exceptiongroup in /usr/local/lib/python3.10/dist-packages (from anyio<5,>=3.5.0->openai) (1.2.1)\n",
            "Requirement already satisfied: certifi in /usr/local/lib/python3.10/dist-packages (from httpx<1,>=0.23.0->openai) (2024.2.2)\n",
            "Collecting httpcore==1.* (from httpx<1,>=0.23.0->openai)\n",
            "  Downloading httpcore-1.0.5-py3-none-any.whl (77 kB)\n",
            "\u001b[2K     \u001b[90m━━━━━━━━━━━━━━━━━━━━━━━━━━━━━━━━━━━━━━━━\u001b[0m \u001b[32m77.9/77.9 kB\u001b[0m \u001b[31m3.0 MB/s\u001b[0m eta \u001b[36m0:00:00\u001b[0m\n",
            "\u001b[?25hCollecting h11<0.15,>=0.13 (from httpcore==1.*->httpx<1,>=0.23.0->openai)\n",
            "  Downloading h11-0.14.0-py3-none-any.whl (58 kB)\n",
            "\u001b[2K     \u001b[90m━━━━━━━━━━━━━━━━━━━━━━━━━━━━━━━━━━━━━━━━\u001b[0m \u001b[32m58.3/58.3 kB\u001b[0m \u001b[31m6.8 MB/s\u001b[0m eta \u001b[36m0:00:00\u001b[0m\n",
            "\u001b[?25hRequirement already satisfied: annotated-types>=0.4.0 in /usr/local/lib/python3.10/dist-packages (from pydantic<3,>=1.9.0->openai) (0.6.0)\n",
            "Requirement already satisfied: pydantic-core==2.18.2 in /usr/local/lib/python3.10/dist-packages (from pydantic<3,>=1.9.0->openai) (2.18.2)\n",
            "Installing collected packages: h11, httpcore, httpx, openai\n",
            "Successfully installed h11-0.14.0 httpcore-1.0.5 httpx-0.27.0 openai-1.30.1\n"
          ]
        }
      ],
      "source": [
        "pip install openai"
      ]
    },
    {
      "cell_type": "code",
      "source": [
        "import openai\n",
        "import requests\n",
        "import json\n",
        "import os\n",
        "\n"
      ],
      "metadata": {
        "id": "SMxFoxsOE8ug"
      },
      "execution_count": 18,
      "outputs": []
    },
    {
      "cell_type": "code",
      "source": [
        "openai_api_key = ''"
      ],
      "metadata": {
        "id": "5gy-oS_GPyJ2"
      },
      "execution_count": null,
      "outputs": []
    },
    {
      "cell_type": "code",
      "source": [
        "TEXT= \" The codes are CODE 1: “//window size setup void setup(){ size(900,600); }//basic body parts of bear void draw(){ stroke(0); fill(255,183,243); rect(60,100,570,350); fill(219,183,255); triangle(800,215,800,135,860,175); fill(81,71,242); circle(720,70,50); fill(25,150,250); circle(720,70,30); fill(25,218,250); circle(720,175,200); //noStroke allows us to combine shapes with no visible lines noStroke(); fill(25,250,165); rect(110,450,115,140); fill(25,250,165); triangle(225,590,225,555,260,590); fill(25,250,165); rect(470,450,115,140); fill(25,250,165); triangle(585,590,585,555,620,590); fill(110,25,250); circle(20,196,25); fill(110,25,250); triangle(15,185,20,210,60,150); fill(110,25,250); triangle(20,210,60,150,60,180); fill(0); circle(776,203,80); fill(25,218,250); circle(776,200,80); }” CODE 2: “//window size setup void setup(){ size(900,600); }//basic body parts of bear void draw(){ stroke(0); fill(255,183,243); rect(60,100,570,350); fill(219,183,255); triangle(800,215,800,135,860,175); fill(81,71,242); circle(720,70,50); fill(25,150,250); circle(720,70,30); fill(25,218,250); circle(720,175,200); //noStroke allows us to combine shapes with no visible lines noStroke(); fill(25,250,165); rect(110,450,115,140); fill(25,250,165); triangle(225,590,225,555,260,590); fill(25,250,165); rect(470,450,115,140); fill(25,250,165); triangle(585,590,585,555,620,590); fill(110,2,250); circle(20,196,25); fill(110,25,250); triangle(15,185,20,210,60,150); fill(110,25,250); triangle(20,210,60,150,60,180); fill(255); circle(776,203,80); fill(25,218,250); circle(776,200,80); }”\"\n"
      ],
      "metadata": {
        "id": "-mNHznIYOaHd"
      },
      "execution_count": 20,
      "outputs": []
    },
    {
      "cell_type": "code",
      "source": [
        "\n",
        "if openai_api_key is None:\n",
        "    raise ValueError(\"OpenAI API key is not set in environment variables.\")\n",
        "\n",
        "url = \"https://api.openai.com/v1/chat/completions\"\n",
        "\n",
        "headers = {\n",
        "    \"Content-Type\": \"application/json\",\n",
        "    \"Authorization\": f\"Bearer {openai_api_key}\"\n",
        "}\n",
        "\n",
        "data = {\n",
        "    \"model\": \"gpt-3.5-turbo\",\n",
        "    \"messages\": [\n",
        "        {\n",
        "            \"role\": \"system\",\n",
        "            \"content\": \"I have to set of codes I would like you to compare their similarities and give me just a score between 0-100 and nothing else, where 100 is exactly  the same code. \"\n",
        "        },\n",
        "        {\n",
        "            \"role\": \"user\",\n",
        "            \"content\": TEXT\n",
        "        }\n",
        "    ]\n",
        "}\n",
        "\n",
        "response = requests.post(url, headers=headers, json=data)\n",
        "\n",
        "# Check if the request was successful\n",
        "if response.status_code == 200:\n",
        "    print(response.json()['choices'][0]['message']['content'])\n",
        "else:\n",
        "    print(\"Error:\", response.status_code, response.text)"
      ],
      "metadata": {
        "colab": {
          "base_uri": "https://localhost:8080/"
        },
        "id": "WiP7frGhGF_H",
        "outputId": "69866995-9f3d-4f66-9c84-13233818f7c1"
      },
      "execution_count": 21,
      "outputs": [
        {
          "output_type": "stream",
          "name": "stdout",
          "text": [
            "Response from OpenAI: {'id': 'chatcmpl-9QKIltw0W8sDbs0wgK6v4ptTWokDe', 'object': 'chat.completion', 'created': 1716061595, 'model': 'gpt-3.5-turbo-0125', 'choices': [{'index': 0, 'message': {'role': 'assistant', 'content': '90'}, 'logprobs': None, 'finish_reason': 'stop'}], 'usage': {'prompt_tokens': 662, 'completion_tokens': 1, 'total_tokens': 663}, 'system_fingerprint': None}\n",
            "\n",
            "\n",
            "90\n"
          ]
        }
      ]
    }
  ]
}