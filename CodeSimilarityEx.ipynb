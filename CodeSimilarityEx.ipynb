{
  "nbformat": 4,
  "nbformat_minor": 0,
  "metadata": {
    "colab": {
      "provenance": []
    },
    "kernelspec": {
      "name": "python3",
      "display_name": "Python 3"
    },
    "language_info": {
      "name": "python"
    }
  },
  "cells": [
    {
      "cell_type": "code",
      "execution_count": 48,
      "metadata": {
        "colab": {
          "base_uri": "https://localhost:8080/"
        },
        "id": "M8j_-lzAE3dz",
        "outputId": "a3962f6d-2a14-49d7-da02-3affdf201200"
      },
      "outputs": [
        {
          "output_type": "stream",
          "name": "stdout",
          "text": [
            "Requirement already satisfied: openai in /usr/local/lib/python3.10/dist-packages (1.30.1)\n",
            "Requirement already satisfied: anyio<5,>=3.5.0 in /usr/local/lib/python3.10/dist-packages (from openai) (3.7.1)\n",
            "Requirement already satisfied: distro<2,>=1.7.0 in /usr/lib/python3/dist-packages (from openai) (1.7.0)\n",
            "Requirement already satisfied: httpx<1,>=0.23.0 in /usr/local/lib/python3.10/dist-packages (from openai) (0.27.0)\n",
            "Requirement already satisfied: pydantic<3,>=1.9.0 in /usr/local/lib/python3.10/dist-packages (from openai) (2.7.1)\n",
            "Requirement already satisfied: sniffio in /usr/local/lib/python3.10/dist-packages (from openai) (1.3.1)\n",
            "Requirement already satisfied: tqdm>4 in /usr/local/lib/python3.10/dist-packages (from openai) (4.66.4)\n",
            "Requirement already satisfied: typing-extensions<5,>=4.7 in /usr/local/lib/python3.10/dist-packages (from openai) (4.11.0)\n",
            "Requirement already satisfied: idna>=2.8 in /usr/local/lib/python3.10/dist-packages (from anyio<5,>=3.5.0->openai) (3.7)\n",
            "Requirement already satisfied: exceptiongroup in /usr/local/lib/python3.10/dist-packages (from anyio<5,>=3.5.0->openai) (1.2.1)\n",
            "Requirement already satisfied: certifi in /usr/local/lib/python3.10/dist-packages (from httpx<1,>=0.23.0->openai) (2024.2.2)\n",
            "Requirement already satisfied: httpcore==1.* in /usr/local/lib/python3.10/dist-packages (from httpx<1,>=0.23.0->openai) (1.0.5)\n",
            "Requirement already satisfied: h11<0.15,>=0.13 in /usr/local/lib/python3.10/dist-packages (from httpcore==1.*->httpx<1,>=0.23.0->openai) (0.14.0)\n",
            "Requirement already satisfied: annotated-types>=0.4.0 in /usr/local/lib/python3.10/dist-packages (from pydantic<3,>=1.9.0->openai) (0.6.0)\n",
            "Requirement already satisfied: pydantic-core==2.18.2 in /usr/local/lib/python3.10/dist-packages (from pydantic<3,>=1.9.0->openai) (2.18.2)\n"
          ]
        }
      ],
      "source": [
        "!pip install openai\n",
        "import openai\n",
        "import requests\n",
        "import json\n",
        "import os"
      ]
    },
    {
      "cell_type": "code",
      "source": [
        "#just to run the whole notebook multiple time\n",
        "!rm -rf GPT_code_similarity"
      ],
      "metadata": {
        "id": "0d9z5ZmY36r5"
      },
      "execution_count": 49,
      "outputs": []
    },
    {
      "cell_type": "code",
      "source": [
        "!git clone https://github.com/lopezbec/GPT_code_similarity.git"
      ],
      "metadata": {
        "colab": {
          "base_uri": "https://localhost:8080/"
        },
        "id": "oSuOdrwwSC0j",
        "outputId": "b5717beb-0e3b-42ee-f5f2-30aa7b0df926"
      },
      "execution_count": 50,
      "outputs": [
        {
          "output_type": "stream",
          "name": "stdout",
          "text": [
            "Cloning into 'GPT_code_similarity'...\n",
            "remote: Enumerating objects: 54, done.\u001b[K\n",
            "remote: Counting objects:   1% (1/54)\u001b[K\rremote: Counting objects:   3% (2/54)\u001b[K\rremote: Counting objects:   5% (3/54)\u001b[K\rremote: Counting objects:   7% (4/54)\u001b[K\rremote: Counting objects:   9% (5/54)\u001b[K\rremote: Counting objects:  11% (6/54)\u001b[K\rremote: Counting objects:  12% (7/54)\u001b[K\rremote: Counting objects:  14% (8/54)\u001b[K\rremote: Counting objects:  16% (9/54)\u001b[K\rremote: Counting objects:  18% (10/54)\u001b[K\rremote: Counting objects:  20% (11/54)\u001b[K\rremote: Counting objects:  22% (12/54)\u001b[K\rremote: Counting objects:  24% (13/54)\u001b[K\rremote: Counting objects:  25% (14/54)\u001b[K\rremote: Counting objects:  27% (15/54)\u001b[K\rremote: Counting objects:  29% (16/54)\u001b[K\rremote: Counting objects:  31% (17/54)\u001b[K\rremote: Counting objects:  33% (18/54)\u001b[K\rremote: Counting objects:  35% (19/54)\u001b[K\rremote: Counting objects:  37% (20/54)\u001b[K\rremote: Counting objects:  38% (21/54)\u001b[K\rremote: Counting objects:  40% (22/54)\u001b[K\rremote: Counting objects:  42% (23/54)\u001b[K\rremote: Counting objects:  44% (24/54)\u001b[K\rremote: Counting objects:  46% (25/54)\u001b[K\rremote: Counting objects:  48% (26/54)\u001b[K\rremote: Counting objects:  50% (27/54)\u001b[K\rremote: Counting objects:  51% (28/54)\u001b[K\rremote: Counting objects:  53% (29/54)\u001b[K\rremote: Counting objects:  55% (30/54)\u001b[K\rremote: Counting objects:  57% (31/54)\u001b[K\rremote: Counting objects:  59% (32/54)\u001b[K\rremote: Counting objects:  61% (33/54)\u001b[K\rremote: Counting objects:  62% (34/54)\u001b[K\rremote: Counting objects:  64% (35/54)\u001b[K\rremote: Counting objects:  66% (36/54)\u001b[K\rremote: Counting objects:  68% (37/54)\u001b[K\rremote: Counting objects:  70% (38/54)\u001b[K\rremote: Counting objects:  72% (39/54)\u001b[K\rremote: Counting objects:  74% (40/54)\u001b[K\rremote: Counting objects:  75% (41/54)\u001b[K\rremote: Counting objects:  77% (42/54)\u001b[K\rremote: Counting objects:  79% (43/54)\u001b[K\rremote: Counting objects:  81% (44/54)\u001b[K\rremote: Counting objects:  83% (45/54)\u001b[K\rremote: Counting objects:  85% (46/54)\u001b[K\rremote: Counting objects:  87% (47/54)\u001b[K\rremote: Counting objects:  88% (48/54)\u001b[K\rremote: Counting objects:  90% (49/54)\u001b[K\rremote: Counting objects:  92% (50/54)\u001b[K\rremote: Counting objects:  94% (51/54)\u001b[K\rremote: Counting objects:  96% (52/54)\u001b[K\rremote: Counting objects:  98% (53/54)\u001b[K\rremote: Counting objects: 100% (54/54)\u001b[K\rremote: Counting objects: 100% (54/54), done.\u001b[K\n",
            "remote: Compressing objects:   2% (1/46)\u001b[K\rremote: Compressing objects:   4% (2/46)\u001b[K\rremote: Compressing objects:   6% (3/46)\u001b[K\rremote: Compressing objects:   8% (4/46)\u001b[K\rremote: Compressing objects:  10% (5/46)\u001b[K\rremote: Compressing objects:  13% (6/46)\u001b[K\rremote: Compressing objects:  15% (7/46)\u001b[K\rremote: Compressing objects:  17% (8/46)\u001b[K\rremote: Compressing objects:  19% (9/46)\u001b[K\rremote: Compressing objects:  21% (10/46)\u001b[K\rremote: Compressing objects:  23% (11/46)\u001b[K\rremote: Compressing objects:  26% (12/46)\u001b[K\rremote: Compressing objects:  28% (13/46)\u001b[K\rremote: Compressing objects:  30% (14/46)\u001b[K\rremote: Compressing objects:  32% (15/46)\u001b[K\rremote: Compressing objects:  34% (16/46)\u001b[K\rremote: Compressing objects:  36% (17/46)\u001b[K\rremote: Compressing objects:  39% (18/46)\u001b[K\rremote: Compressing objects:  41% (19/46)\u001b[K\rremote: Compressing objects:  43% (20/46)\u001b[K\rremote: Compressing objects:  45% (21/46)\u001b[K\rremote: Compressing objects:  47% (22/46)\u001b[K\rremote: Compressing objects:  50% (23/46)\u001b[K\rremote: Compressing objects:  52% (24/46)\u001b[K\rremote: Compressing objects:  54% (25/46)\u001b[K\rremote: Compressing objects:  56% (26/46)\u001b[K\rremote: Compressing objects:  58% (27/46)\u001b[K\rremote: Compressing objects:  60% (28/46)\u001b[K\rremote: Compressing objects:  63% (29/46)\u001b[K\rremote: Compressing objects:  65% (30/46)\u001b[K\rremote: Compressing objects:  67% (31/46)\u001b[K\rremote: Compressing objects:  69% (32/46)\u001b[K\rremote: Compressing objects:  71% (33/46)\u001b[K\rremote: Compressing objects:  73% (34/46)\u001b[K\rremote: Compressing objects:  76% (35/46)\u001b[K\rremote: Compressing objects:  78% (36/46)\u001b[K\rremote: Compressing objects:  80% (37/46)\u001b[K\rremote: Compressing objects:  82% (38/46)\u001b[K\rremote: Compressing objects:  84% (39/46)\u001b[K\rremote: Compressing objects:  86% (40/46)\u001b[K\rremote: Compressing objects:  89% (41/46)\u001b[K\rremote: Compressing objects:  91% (42/46)\u001b[K\rremote: Compressing objects:  93% (43/46)\u001b[K\rremote: Compressing objects:  95% (44/46)\u001b[K\rremote: Compressing objects:  97% (45/46)\u001b[K\rremote: Compressing objects: 100% (46/46)\u001b[K\rremote: Compressing objects: 100% (46/46), done.\u001b[K\n",
            "Receiving objects:   1% (1/54)\rReceiving objects:   3% (2/54)\rReceiving objects:   5% (3/54)\rReceiving objects:   7% (4/54)\rReceiving objects:   9% (5/54)\rReceiving objects:  11% (6/54)\rReceiving objects:  12% (7/54)\rReceiving objects:  14% (8/54)\rReceiving objects:  16% (9/54)\rReceiving objects:  18% (10/54)\rReceiving objects:  20% (11/54)\rReceiving objects:  22% (12/54)\rReceiving objects:  24% (13/54)\rReceiving objects:  25% (14/54)\rremote: Total 54 (delta 27), reused 29 (delta 7), pack-reused 0\u001b[K\n",
            "Receiving objects:  27% (15/54)\rReceiving objects:  29% (16/54)\rReceiving objects:  31% (17/54)\rReceiving objects:  33% (18/54)\rReceiving objects:  35% (19/54)\rReceiving objects:  37% (20/54)\rReceiving objects:  38% (21/54)\rReceiving objects:  40% (22/54)\rReceiving objects:  42% (23/54)\rReceiving objects:  44% (24/54)\rReceiving objects:  46% (25/54)\rReceiving objects:  48% (26/54)\rReceiving objects:  50% (27/54)\rReceiving objects:  51% (28/54)\rReceiving objects:  53% (29/54)\rReceiving objects:  55% (30/54)\rReceiving objects:  57% (31/54)\rReceiving objects:  59% (32/54)\rReceiving objects:  61% (33/54)\rReceiving objects:  62% (34/54)\rReceiving objects:  64% (35/54)\rReceiving objects:  66% (36/54)\rReceiving objects:  68% (37/54)\rReceiving objects:  70% (38/54)\rReceiving objects:  72% (39/54)\rReceiving objects:  74% (40/54)\rReceiving objects:  75% (41/54)\rReceiving objects:  77% (42/54)\rReceiving objects:  79% (43/54)\rReceiving objects:  81% (44/54)\rReceiving objects:  83% (45/54)\rReceiving objects:  85% (46/54)\rReceiving objects:  87% (47/54)\rReceiving objects:  88% (48/54)\rReceiving objects:  90% (49/54)\rReceiving objects:  92% (50/54)\rReceiving objects:  94% (51/54)\rReceiving objects:  96% (52/54)\rReceiving objects:  98% (53/54)\rReceiving objects: 100% (54/54)\rReceiving objects: 100% (54/54), 15.09 KiB | 15.09 MiB/s, done.\n",
            "Resolving deltas:   0% (0/27)\rResolving deltas:   3% (1/27)\rResolving deltas:   7% (2/27)\rResolving deltas:  11% (3/27)\rResolving deltas:  14% (4/27)\rResolving deltas:  18% (5/27)\rResolving deltas:  22% (6/27)\rResolving deltas:  25% (7/27)\rResolving deltas:  29% (8/27)\rResolving deltas:  33% (9/27)\rResolving deltas:  37% (10/27)\rResolving deltas:  40% (11/27)\rResolving deltas:  44% (12/27)\rResolving deltas:  48% (13/27)\rResolving deltas:  51% (14/27)\rResolving deltas:  55% (15/27)\rResolving deltas:  59% (16/27)\rResolving deltas:  62% (17/27)\rResolving deltas:  66% (18/27)\rResolving deltas:  70% (19/27)\rResolving deltas:  74% (20/27)\rResolving deltas:  77% (21/27)\rResolving deltas:  81% (22/27)\rResolving deltas:  85% (23/27)\rResolving deltas:  88% (24/27)\rResolving deltas:  92% (25/27)\rResolving deltas:  96% (26/27)\rResolving deltas: 100% (27/27)\rResolving deltas: 100% (27/27), done.\n"
          ]
        }
      ]
    },
    {
      "cell_type": "code",
      "source": [
        "\n",
        "def read_file(file_path):\n",
        "    combined_content = \"\"\n",
        "    filename = os.path.basename(file_path)\n",
        "    # Check if the path is a file\n",
        "    if os.path.isfile(file_path):\n",
        "        with open(file_path, 'r', encoding='utf-8') as file:\n",
        "            file_content = file.read()\n",
        "            combined_content += f\"Name of file: {filename}\\n{file_content}\\n\\n\"\n",
        "\n",
        "    return combined_content\n",
        "\n",
        "\n"
      ],
      "metadata": {
        "id": "SMxFoxsOE8ug"
      },
      "execution_count": 51,
      "outputs": []
    },
    {
      "cell_type": "code",
      "source": [
        "openai_api_key = 'sk-.........'"
      ],
      "metadata": {
        "id": "5gy-oS_GPyJ2"
      },
      "execution_count": 52,
      "outputs": []
    },
    {
      "cell_type": "code",
      "source": [
        "\n",
        "\n"
      ],
      "metadata": {
        "id": "dmyraiI7df0F"
      },
      "execution_count": 53,
      "outputs": []
    },
    {
      "cell_type": "code",
      "source": [
        "#@title Comparing Bear1 with Bear1!\n",
        "Mainfile = read_file('/content/GPT_code_similarity/Code_for_comparison/Bear1.pde')\n",
        "\n",
        "if openai_api_key is None:\n",
        "    raise ValueError(\"OpenAI API key is not set in environment variables.\")\n",
        "\n",
        "url = \"https://api.openai.com/v1/chat/completions\"\n",
        "\n",
        "headers = {\n",
        "    \"Content-Type\": \"application/json\",\n",
        "    \"Authorization\": f\"Bearer {openai_api_key}\"\n",
        "}\n",
        "\n",
        "data = {\n",
        "    \"model\": \"gpt-3.5-turbo\",\n",
        "    \"messages\": [\n",
        "        {\n",
        "            \"role\": \"system\",\n",
        "            \"content\": \"I have the following code I would like you to compare its similarities with other codes and give me just a score between 0-100 and nothing else, where 100 is exactly  the same code. The main code is:\" + Mainfile\n",
        "        },\n",
        "        {\n",
        "            \"role\": \"user\",\n",
        "            \"content\": \"How similar is this reference code with the main code? Reference code is: \" + Mainfile\n",
        "        }\n",
        "    ]\n",
        "}\n",
        "\n",
        "response = requests.post(url, headers=headers, json=data)\n",
        "\n",
        "# Check if the request was successful\n",
        "if response.status_code == 200:\n",
        "    print(\"Comparing Bear1.pde  with Bear1_smalldiff.pde, which are very similar:\" )\n",
        "    print(response.json()['choices'][0]['message']['content'])\n",
        "else:\n",
        "    print(\"Error:\", response.status_code, response.text)"
      ],
      "metadata": {
        "cellView": "form",
        "id": "FaKSBSVtfmSd",
        "outputId": "5d531790-6f57-4b0a-dba0-9b21f4a5fbfc",
        "colab": {
          "base_uri": "https://localhost:8080/"
        }
      },
      "execution_count": 54,
      "outputs": [
        {
          "output_type": "stream",
          "name": "stdout",
          "text": [
            "Comparing Bear1.pde  with Bear1_smalldiff.pde, which are very similar:\n",
            "100\n"
          ]
        }
      ]
    },
    {
      "cell_type": "code",
      "source": [
        "#@title Comparing Bear1 with Bear1_smalldiff!\n",
        "Mainfile = read_file('/content/GPT_code_similarity/Code_for_comparison/Bear1.pde')\n",
        "Ref_file= read_file('/content/GPT_code_similarity/Code_for_comparison/Bear1_smalldiff.pde')\n",
        "\n",
        "\n",
        "if openai_api_key is None:\n",
        "    raise ValueError(\"OpenAI API key is not set in environment variables.\")\n",
        "\n",
        "url = \"https://api.openai.com/v1/chat/completions\"\n",
        "\n",
        "headers = {\n",
        "    \"Content-Type\": \"application/json\",\n",
        "    \"Authorization\": f\"Bearer {openai_api_key}\"\n",
        "}\n",
        "\n",
        "data = {\n",
        "    \"model\": \"gpt-3.5-turbo\",\n",
        "    \"messages\": [\n",
        "        {\n",
        "            \"role\": \"system\",\n",
        "            \"content\": \"I have the following code I would like you to compare its similarities with other codes and give me just a score between 0-100 and nothing else, where 100 is exactly  the same code. The main code is:\" + Mainfile\n",
        "        },\n",
        "        {\n",
        "            \"role\": \"user\",\n",
        "            \"content\": \"How similar is this reference code with the main code? Reference code is: \" + Ref_file\n",
        "        }\n",
        "    ]\n",
        "}\n",
        "\n",
        "response = requests.post(url, headers=headers, json=data)\n",
        "\n",
        "# Check if the request was successful\n",
        "if response.status_code == 200:\n",
        "    print(\"Comparing Bear1.pde  with Bear1_smalldiff.pde, which are very similar:\" )\n",
        "    print(response.json()['choices'][0]['message']['content'])\n",
        "else:\n",
        "    print(\"Error:\", response.status_code, response.text)"
      ],
      "metadata": {
        "colab": {
          "base_uri": "https://localhost:8080/"
        },
        "id": "WiP7frGhGF_H",
        "outputId": "6e4b39bc-2466-4a9f-9ae5-a1aa6a05d68e",
        "cellView": "form"
      },
      "execution_count": 55,
      "outputs": [
        {
          "output_type": "stream",
          "name": "stdout",
          "text": [
            "Comparing Bear1.pde  with Bear1_smalldiff.pde, which are very similar:\n",
            "85\n"
          ]
        }
      ]
    },
    {
      "cell_type": "code",
      "source": [
        "#@title Comparing Bear1 with Bear1different!\n",
        "Ref_file= read_file('/content/GPT_code_similarity/Code_for_comparison/Beardifferent.pde')\n",
        "\n",
        "\n",
        "if openai_api_key is None:\n",
        "    raise ValueError(\"OpenAI API key is not set in environment variables.\")\n",
        "\n",
        "url = \"https://api.openai.com/v1/chat/completions\"\n",
        "\n",
        "headers = {\n",
        "    \"Content-Type\": \"application/json\",\n",
        "    \"Authorization\": f\"Bearer {openai_api_key}\"\n",
        "}\n",
        "\n",
        "data = {\n",
        "    \"model\": \"gpt-3.5-turbo\",\n",
        "    \"messages\": [\n",
        "        {\n",
        "            \"role\": \"system\",\n",
        "            \"content\": \"I have the following code I would like you to compare its similarities with other codes and give me just a score between 0-100 and nothing else, where 100 is exactly  the same code. The main code is:\" + Mainfile\n",
        "        },\n",
        "        {\n",
        "            \"role\": \"user\",\n",
        "            \"content\": \"How similar is this reference code with the main code? Reference code is: \" + Ref_file\n",
        "        }\n",
        "    ]\n",
        "}\n",
        "\n",
        "response = requests.post(url, headers=headers, json=data)\n",
        "\n",
        "# Check if the request was successful\n",
        "if response.status_code == 200:\n",
        "    print(\"Comparing Bear1.pde  with Beardifferent, which are different:\" )\n",
        "    print(response.json()['choices'][0]['message']['content'])\n",
        "else:\n",
        "    print(\"Error:\", response.status_code, response.text)"
      ],
      "metadata": {
        "cellView": "form",
        "colab": {
          "base_uri": "https://localhost:8080/"
        },
        "id": "mKjhAjwtYvlM",
        "outputId": "e5800c13-4c8f-4c9a-90e7-b6c528d24380"
      },
      "execution_count": 56,
      "outputs": [
        {
          "output_type": "stream",
          "name": "stdout",
          "text": [
            "Comparing Bear1.pde  with Beardifferent, which are different:\n",
            "Score: 5\n"
          ]
        }
      ]
    },
    {
      "cell_type": "code",
      "source": [
        "#@title Comparing Bear1 with House!\n",
        "Ref_file= read_file('/content/GPT_code_similarity/Code_for_comparison/House.pde')\n",
        "\n",
        "\n",
        "if openai_api_key is None:\n",
        "    raise ValueError(\"OpenAI API key is not set in environment variables.\")\n",
        "\n",
        "url = \"https://api.openai.com/v1/chat/completions\"\n",
        "\n",
        "headers = {\n",
        "    \"Content-Type\": \"application/json\",\n",
        "    \"Authorization\": f\"Bearer {openai_api_key}\"\n",
        "}\n",
        "\n",
        "data = {\n",
        "    \"model\": \"gpt-3.5-turbo\",\n",
        "    \"messages\": [\n",
        "        {\n",
        "            \"role\": \"system\",\n",
        "            \"content\": \"I have the following code I would like you to compare its similarities with other codes and give me just a score between 0-100 and nothing else, where 100 is exactly  the same code. The main code is:\" + Mainfile\n",
        "        },\n",
        "        {\n",
        "            \"role\": \"user\",\n",
        "            \"content\": \"How similar is this reference code with the main code? Reference code is: \" + Ref_file\n",
        "        }\n",
        "    ]\n",
        "}\n",
        "\n",
        "response = requests.post(url, headers=headers, json=data)\n",
        "\n",
        "# Check if the request was successful\n",
        "if response.status_code == 200:\n",
        "    print(\"Comparing Bear1.pde  with House.pde, which are very different:\" )\n",
        "    print(response.json()['choices'][0]['message']['content'])\n",
        "else:\n",
        "    print(\"Error:\", response.status_code, response.text)"
      ],
      "metadata": {
        "cellView": "form",
        "colab": {
          "base_uri": "https://localhost:8080/"
        },
        "id": "vtAPmKCdYwsn",
        "outputId": "98d4d719-b293-4d72-af1e-5faed17dc922"
      },
      "execution_count": 57,
      "outputs": [
        {
          "output_type": "stream",
          "name": "stdout",
          "text": [
            "Comparing Bear1.pde  with House.pde, which are very different:\n",
            "36\n"
          ]
        }
      ]
    }
  ]
}