{
  "nbformat": 4,
  "nbformat_minor": 0,
  "metadata": {
    "colab": {
      "provenance": []
    },
    "kernelspec": {
      "name": "python3",
      "display_name": "Python 3"
    },
    "language_info": {
      "name": "python"
    }
  },
  "cells": [
    {
      "cell_type": "code",
      "execution_count": 4,
      "metadata": {
        "colab": {
          "base_uri": "https://localhost:8080/"
        },
        "id": "M8j_-lzAE3dz",
        "outputId": "ea0a7a9a-b8cb-484f-9b0b-f214fc428872"
      },
      "outputs": [
        {
          "output_type": "stream",
          "name": "stdout",
          "text": [
            "Requirement already satisfied: openai in /usr/local/lib/python3.10/dist-packages (1.30.1)\n",
            "Requirement already satisfied: anyio<5,>=3.5.0 in /usr/local/lib/python3.10/dist-packages (from openai) (3.7.1)\n",
            "Requirement already satisfied: distro<2,>=1.7.0 in /usr/lib/python3/dist-packages (from openai) (1.7.0)\n",
            "Requirement already satisfied: httpx<1,>=0.23.0 in /usr/local/lib/python3.10/dist-packages (from openai) (0.27.0)\n",
            "Requirement already satisfied: pydantic<3,>=1.9.0 in /usr/local/lib/python3.10/dist-packages (from openai) (2.7.1)\n",
            "Requirement already satisfied: sniffio in /usr/local/lib/python3.10/dist-packages (from openai) (1.3.1)\n",
            "Requirement already satisfied: tqdm>4 in /usr/local/lib/python3.10/dist-packages (from openai) (4.66.4)\n",
            "Requirement already satisfied: typing-extensions<5,>=4.7 in /usr/local/lib/python3.10/dist-packages (from openai) (4.11.0)\n",
            "Requirement already satisfied: idna>=2.8 in /usr/local/lib/python3.10/dist-packages (from anyio<5,>=3.5.0->openai) (3.7)\n",
            "Requirement already satisfied: exceptiongroup in /usr/local/lib/python3.10/dist-packages (from anyio<5,>=3.5.0->openai) (1.2.1)\n",
            "Requirement already satisfied: certifi in /usr/local/lib/python3.10/dist-packages (from httpx<1,>=0.23.0->openai) (2024.2.2)\n",
            "Requirement already satisfied: httpcore==1.* in /usr/local/lib/python3.10/dist-packages (from httpx<1,>=0.23.0->openai) (1.0.5)\n",
            "Requirement already satisfied: h11<0.15,>=0.13 in /usr/local/lib/python3.10/dist-packages (from httpcore==1.*->httpx<1,>=0.23.0->openai) (0.14.0)\n",
            "Requirement already satisfied: annotated-types>=0.4.0 in /usr/local/lib/python3.10/dist-packages (from pydantic<3,>=1.9.0->openai) (0.6.0)\n",
            "Requirement already satisfied: pydantic-core==2.18.2 in /usr/local/lib/python3.10/dist-packages (from pydantic<3,>=1.9.0->openai) (2.18.2)\n"
          ]
        }
      ],
      "source": [
        "!pip install openai\n",
        "import openai\n",
        "import requests\n",
        "import json\n",
        "import os"
      ]
    },
    {
      "cell_type": "code",
      "source": [
        "!git clone https://github.com/lopezbec/GPT_code_similarity.git"
      ],
      "metadata": {
        "colab": {
          "base_uri": "https://localhost:8080/"
        },
        "id": "oSuOdrwwSC0j",
        "outputId": "1e951806-17fd-4a0a-8418-103d83c3df4d"
      },
      "execution_count": 2,
      "outputs": [
        {
          "output_type": "stream",
          "name": "stdout",
          "text": [
            "Cloning into 'GPT_code_similarity'...\n",
            "remote: Enumerating objects: 15, done.\u001b[K\n",
            "remote: Counting objects: 100% (15/15), done.\u001b[K\n",
            "remote: Compressing objects: 100% (14/14), done.\u001b[K\n",
            "remote: Total 15 (delta 5), reused 7 (delta 1), pack-reused 0\u001b[K\n",
            "Receiving objects: 100% (15/15), 5.68 KiB | 5.68 MiB/s, done.\n",
            "Resolving deltas: 100% (5/5), done.\n"
          ]
        }
      ]
    },
    {
      "cell_type": "code",
      "source": [
        "\n",
        "def read_files_in_directory(directory_path):\n",
        "    combined_content = \"\"\n",
        "\n",
        "    for filename in os.listdir(directory_path):\n",
        "        file_path = os.path.join(directory_path, filename)\n",
        "\n",
        "        # Check if the path is a file\n",
        "        if os.path.isfile(file_path):\n",
        "            with open(file_path, 'r', encoding='utf-8') as file:\n",
        "                file_content = file.read()\n",
        "                combined_content += f\"Name of file: {filename}\\n{file_content}\\n\\n\"\n",
        "\n",
        "    return combined_content\n",
        "\n",
        "# Example usage:\n",
        "directory_path = '/content/GPT_code_similarity/Code_for_comparison'  # Replace with your directory path\n",
        "result = read_files_in_directory(directory_path)\n",
        "print(result)  # Or save this to a file if needed\n"
      ],
      "metadata": {
        "id": "SMxFoxsOE8ug",
        "colab": {
          "base_uri": "https://localhost:8080/"
        },
        "outputId": "b0d2d4ea-2faa-4af4-a8cd-dab414081def"
      },
      "execution_count": 9,
      "outputs": [
        {
          "output_type": "stream",
          "name": "stdout",
          "text": [
            "Name of file: Bear1_2.pde\n",
            "\n",
            "//basic body parts of bear\n",
            "void draw(){\n",
            "stroke(0);\n",
            "fill(255,183,243);\n",
            "rect(60,100,570,350);\n",
            "fill(219,183,255);\n",
            "triangle(800,215,800,135,860,175);\n",
            "fill(81,71,242);\n",
            "circle(720,70,50);\n",
            "fill(25,150,250);\n",
            "circle(720,70,30);\n",
            "fill(25,218,250);\n",
            "circle(720,175,200);\n",
            "noStroke();\n",
            "fill(25,250,165);\n",
            "rect(110,450,115,140);\n",
            "fill(25,250,165);\n",
            "triangle(225,590,225,555,260,590);\n",
            "fill(25,250,165);\n",
            "rect(470,450,115,140);\n",
            "fill(25,250,165);\n",
            "triangle(585,590,585,555,620,590);\n",
            "fill(110,25,250);\n",
            "circle(20,196,25);\n",
            "fill(110,25,250);\n",
            "triangle(15,185,20,210,60,150);\n",
            "fill(110,25,250);\n",
            "triangle(20,210,60,150,60,180);\n",
            "fill(0);\n",
            "circle(776,203,80);\n",
            "fill(25,218,250);\n",
            "circle(776,200,80);\n",
            "\n",
            "//lines on back\n",
            "line(540,180,630,100);\n",
            "line(540,180,480,140);\n",
            "line(480,140,420,190);\n",
            "line(420,190,360,150);\n",
            "line(360,150,300,200);\n",
            "line(300,200,240,160);\n",
            "line(240,160,180,210);\n",
            "line(180,210,120,170);\n",
            "line(120,170,60,220);\n",
            "\n",
            "}\n",
            "\n",
            "\n",
            "Name of file: Bear1.pde\n",
            "//window size setup\n",
            "void setup(){\n",
            "  size(900,600);\n",
            "}\n",
            "//basic body parts of bear\n",
            "void draw(){\n",
            "stroke(0);\n",
            "fill(255,183,243);\n",
            "rect(60,100,570,350);\n",
            "fill(219,183,255);\n",
            "triangle(800,215,800,135,860,175);\n",
            "fill(81,71,242);\n",
            "circle(720,70,50);\n",
            "fill(25,150,250);\n",
            "circle(720,70,30);\n",
            "fill(25,218,250);\n",
            "circle(720,175,200);\n",
            "//noStroke allows us to combine shapes with no visible lines\n",
            "noStroke();\n",
            "fill(25,250,165);\n",
            "rect(110,450,115,140);\n",
            "fill(25,250,165);\n",
            "triangle(225,590,225,555,260,590);\n",
            "fill(25,250,165);\n",
            "rect(470,450,115,140);\n",
            "fill(25,250,165);\n",
            "triangle(585,590,585,555,620,590);\n",
            "fill(110,25,250);\n",
            "circle(20,196,25);\n",
            "fill(110,25,250);\n",
            "triangle(15,185,20,210,60,150);\n",
            "fill(110,25,250);\n",
            "triangle(20,210,60,150,60,180);\n",
            "fill(0);\n",
            "circle(776,203,80);\n",
            "fill(25,218,250);\n",
            "circle(776,200,80);\n",
            "\n",
            "//small details on bear\n",
            "stroke(0);\n",
            "fill(227,25,250);\n",
            "circle(860,175,20);\n",
            "fill(255);\n",
            "circle(770,130,20);\n",
            "//lines on back\n",
            "line(540,180,630,100);\n",
            "line(540,180,480,140);\n",
            "line(480,140,420,190);\n",
            "line(420,190,360,150);\n",
            "line(360,150,300,200);\n",
            "line(300,200,240,160);\n",
            "line(240,160,180,210);\n",
            "line(180,210,120,170);\n",
            "line(120,170,60,220);\n",
            "\n",
            "}\n",
            "\n",
            "\n",
            "Name of file: House.pde\n",
            "void setup() {\n",
            "  size(600,800);\n",
            "}\n",
            "//basic shapes of house\n",
            "void draw() {\n",
            "  stroke(0);\n",
            "  fill(72,237,117);\n",
            "  rect(0,640,600,160);\n",
            "  fill(147,147,147);\n",
            "  rect(100,320,400,400);\n",
            "  fill(73,166,240);\n",
            "  rect(250,520,100,200);\n",
            "  fill(183,73,240);\n",
            "  circle(265,640,20);\n",
            "  fill(25,242,247);\n",
            "  circle(200,440,70);\n",
            "  fill(25,242,247);\n",
            "  circle(400,440,70);\n",
            "  fill(245,166,232);\n",
            "  triangle(80,320,300,80,520,320);\n",
            "  circle(300, 248, 95);\n",
            "  circle(300, 270, 95);\n",
            "  //noStroke allows us to see no outline of the shape\n",
            "  noStroke();\n",
            "  rect(240,250, 120, 20);\n",
            "  //making roof design\n",
            "  noStroke();\n",
            "  fill(240,22,204);\n",
            "  triangle(300,200-50,250,250-50,350,250-50);\n",
            "  fill(240,22,204);\n",
            "  rect(250,200,100,50);\n",
            "  fill(245,166,232);\n",
            "  triangle(300,200,250,250,350,250);\n",
            " \n",
            " //making sun\n",
            "  stroke(0);\n",
            "  strokeWeight(3);\n",
            "   fill(250,243,169);\n",
            "  circle(100,120,70);\n",
            "  line(150,120,170,120);\n",
            "  line(145,150,180,165);\n",
            "  line(120,170,130,190);\n",
            "  line(90,175,85,220);\n",
            "  line(60,160,40,175);\n",
            "  line(50,125,10,125);\n",
            "  line(60,90,40,75);\n",
            "  line(95,75,85,35);\n",
            "  line(125,80,140,60);\n",
            "  line(145,95,190,70);\n",
            "  \n",
            "  \n",
            "}\n",
            "\n",
            "\n",
            "\n"
          ]
        }
      ]
    },
    {
      "cell_type": "code",
      "source": [
        "openai_api_key = ''"
      ],
      "metadata": {
        "id": "5gy-oS_GPyJ2"
      },
      "execution_count": 10,
      "outputs": []
    },
    {
      "cell_type": "code",
      "source": [
        "\n",
        "if openai_api_key is None:\n",
        "    raise ValueError(\"OpenAI API key is not set in environment variables.\")\n",
        "\n",
        "url = \"https://api.openai.com/v1/chat/completions\"\n",
        "\n",
        "headers = {\n",
        "    \"Content-Type\": \"application/json\",\n",
        "    \"Authorization\": f\"Bearer {openai_api_key}\"\n",
        "}\n",
        "\n",
        "data = {\n",
        "    \"model\": \"gpt-3.5-turbo\",\n",
        "    \"messages\": [\n",
        "        {\n",
        "            \"role\": \"system\",\n",
        "            \"content\": \"I have to multiple set codes I would like you to compare their similarities and give me just a score between 0-100 and nothing else, where 100 is exactly  the same code.  Provide the  score between two code and specify the names of them \"\n",
        "        },\n",
        "        {\n",
        "            \"role\": \"user\",\n",
        "            \"content\": result\n",
        "        }\n",
        "    ]\n",
        "}\n",
        "\n",
        "response = requests.post(url, headers=headers, json=data)\n",
        "\n",
        "# Check if the request was successful\n",
        "if response.status_code == 200:\n",
        "    print(response.json()['choices'][0]['message']['content'])\n",
        "else:\n",
        "    print(\"Error:\", response.status_code, response.text)"
      ],
      "metadata": {
        "colab": {
          "base_uri": "https://localhost:8080/"
        },
        "id": "WiP7frGhGF_H",
        "outputId": "86e8c17c-9753-4034-a174-06a5f68f21f4"
      },
      "execution_count": 11,
      "outputs": [
        {
          "output_type": "stream",
          "name": "stdout",
          "text": [
            "Comparing \"Bear1_2.pde\" and \"Bear1.pde\":\n",
            "Score: 98\n",
            "\n",
            "Comparing \"Bear1_2.pde\" and \"House.pde\":\n",
            "Score: 5\n",
            "\n",
            "Comparing \"Bear1.pde\" and \"House.pde\":\n",
            "Score: 4\n"
          ]
        }
      ]
    }
  ]
}